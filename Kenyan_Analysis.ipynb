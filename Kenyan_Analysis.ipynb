{
 "cells": [
  {
   "cell_type": "markdown",
   "id": "0e5a2860-e64c-44d2-84f5-0961b8c09d17",
   "metadata": {},
   "source": [
    "### Loading and inspecting the data"
   ]
  },
  {
   "cell_type": "code",
   "execution_count": 1,
   "id": "ab8e98af-2652-4bc5-9686-5172d30f2219",
   "metadata": {},
   "outputs": [],
   "source": [
    "#important pandas library as pd\n",
    "import pandas as pd"
   ]
  },
  {
   "cell_type": "code",
   "execution_count": 2,
   "id": "2561f573-3e36-44cf-b5b0-963651fe8149",
   "metadata": {},
   "outputs": [],
   "source": [
    "#Load our csv file\n",
    "filepath =\"DataFiles/violence_data.csv\"\n",
    "df=pd.read_csv(filepath)"
   ]
  },
  {
   "cell_type": "code",
   "execution_count": 3,
   "id": "e6548e3f-2cad-4713-b8fb-2ea4f6639be5",
   "metadata": {},
   "outputs": [
    {
     "data": {
      "text/html": [
       "<div>\n",
       "<style scoped>\n",
       "    .dataframe tbody tr th:only-of-type {\n",
       "        vertical-align: middle;\n",
       "    }\n",
       "\n",
       "    .dataframe tbody tr th {\n",
       "        vertical-align: top;\n",
       "    }\n",
       "\n",
       "    .dataframe thead th {\n",
       "        text-align: right;\n",
       "    }\n",
       "</style>\n",
       "<table border=\"1\" class=\"dataframe\">\n",
       "  <thead>\n",
       "    <tr style=\"text-align: right;\">\n",
       "      <th></th>\n",
       "      <th>RecordID</th>\n",
       "      <th>Country</th>\n",
       "      <th>Gender</th>\n",
       "      <th>Demographics Question</th>\n",
       "      <th>Demographics Response</th>\n",
       "      <th>Question</th>\n",
       "      <th>Survey Year</th>\n",
       "      <th>Value</th>\n",
       "    </tr>\n",
       "  </thead>\n",
       "  <tbody>\n",
       "    <tr>\n",
       "      <th>0</th>\n",
       "      <td>1</td>\n",
       "      <td>Afghanistan</td>\n",
       "      <td>F</td>\n",
       "      <td>Marital status</td>\n",
       "      <td>Never married</td>\n",
       "      <td>... if she burns the food</td>\n",
       "      <td>01/01/2015</td>\n",
       "      <td>NaN</td>\n",
       "    </tr>\n",
       "    <tr>\n",
       "      <th>1</th>\n",
       "      <td>1</td>\n",
       "      <td>Afghanistan</td>\n",
       "      <td>F</td>\n",
       "      <td>Education</td>\n",
       "      <td>Higher</td>\n",
       "      <td>... if she burns the food</td>\n",
       "      <td>01/01/2015</td>\n",
       "      <td>10.1</td>\n",
       "    </tr>\n",
       "    <tr>\n",
       "      <th>2</th>\n",
       "      <td>1</td>\n",
       "      <td>Afghanistan</td>\n",
       "      <td>F</td>\n",
       "      <td>Education</td>\n",
       "      <td>Secondary</td>\n",
       "      <td>... if she burns the food</td>\n",
       "      <td>01/01/2015</td>\n",
       "      <td>13.7</td>\n",
       "    </tr>\n",
       "    <tr>\n",
       "      <th>3</th>\n",
       "      <td>1</td>\n",
       "      <td>Afghanistan</td>\n",
       "      <td>F</td>\n",
       "      <td>Education</td>\n",
       "      <td>Primary</td>\n",
       "      <td>... if she burns the food</td>\n",
       "      <td>01/01/2015</td>\n",
       "      <td>13.8</td>\n",
       "    </tr>\n",
       "    <tr>\n",
       "      <th>4</th>\n",
       "      <td>1</td>\n",
       "      <td>Afghanistan</td>\n",
       "      <td>F</td>\n",
       "      <td>Marital status</td>\n",
       "      <td>Widowed, divorced, separated</td>\n",
       "      <td>... if she burns the food</td>\n",
       "      <td>01/01/2015</td>\n",
       "      <td>13.8</td>\n",
       "    </tr>\n",
       "  </tbody>\n",
       "</table>\n",
       "</div>"
      ],
      "text/plain": [
       "   RecordID      Country Gender Demographics Question  \\\n",
       "0         1  Afghanistan      F        Marital status   \n",
       "1         1  Afghanistan      F             Education   \n",
       "2         1  Afghanistan      F             Education   \n",
       "3         1  Afghanistan      F             Education   \n",
       "4         1  Afghanistan      F        Marital status   \n",
       "\n",
       "          Demographics Response                   Question Survey Year  Value  \n",
       "0                 Never married  ... if she burns the food  01/01/2015    NaN  \n",
       "1                        Higher  ... if she burns the food  01/01/2015   10.1  \n",
       "2                     Secondary  ... if she burns the food  01/01/2015   13.7  \n",
       "3                       Primary  ... if she burns the food  01/01/2015   13.8  \n",
       "4  Widowed, divorced, separated  ... if she burns the food  01/01/2015   13.8  "
      ]
     },
     "execution_count": 3,
     "metadata": {},
     "output_type": "execute_result"
    }
   ],
   "source": [
    "#Display the first 5 rows of our data set\n",
    "df.head()"
   ]
  },
  {
   "cell_type": "code",
   "execution_count": 4,
   "id": "a67a53e6-8f4f-4b72-825c-b56a2382a19d",
   "metadata": {},
   "outputs": [
    {
     "data": {
      "text/plain": [
       "(12600, 8)"
      ]
     },
     "execution_count": 4,
     "metadata": {},
     "output_type": "execute_result"
    }
   ],
   "source": [
    "#Checking the number of rows and columns in our dataset\n",
    "df.shape"
   ]
  },
  {
   "cell_type": "code",
   "execution_count": 5,
   "id": "025d0c69-c9eb-427e-96b2-9593154aa957",
   "metadata": {},
   "outputs": [
    {
     "data": {
      "text/plain": [
       "Index(['RecordID', 'Country', 'Gender', 'Demographics Question',\n",
       "       'Demographics Response', 'Question', 'Survey Year', 'Value'],\n",
       "      dtype='object')"
      ]
     },
     "execution_count": 5,
     "metadata": {},
     "output_type": "execute_result"
    }
   ],
   "source": [
    "#Checking the columns we have to determine which ones to keep and which ones to remove\n",
    "df.columns"
   ]
  },
  {
   "cell_type": "markdown",
   "id": "195c9655-e993-4fe1-b47d-ddd0a80351c6",
   "metadata": {},
   "source": [
    "### Cleaning and preparing the data"
   ]
  },
  {
   "cell_type": "code",
   "execution_count": 117,
   "id": "ffae7aa6-3b4e-463d-b20e-ef1c1089ca15",
   "metadata": {},
   "outputs": [
    {
     "data": {
      "text/plain": [
       "RecordID                 False\n",
       "Country                  False\n",
       "Gender                   False\n",
       "Demographics Question    False\n",
       "Demographics Response    False\n",
       "Question                 False\n",
       "dtype: bool"
      ]
     },
     "execution_count": 117,
     "metadata": {},
     "output_type": "execute_result"
    }
   ],
   "source": [
    "#Check for null values\n",
    "df.isnull().any()"
   ]
  },
  {
   "cell_type": "markdown",
   "id": "4a179c15-71bf-4734-a43f-7cf516accefe",
   "metadata": {},
   "source": [
    "#### Our dataset contains on null values ,we proceed and check for duplicate values"
   ]
  },
  {
   "cell_type": "code",
   "execution_count": 122,
   "id": "c2e684b7-78bf-44e3-bd56-8c140d33ce02",
   "metadata": {},
   "outputs": [
    {
     "data": {
      "text/plain": [
       "False"
      ]
     },
     "execution_count": 122,
     "metadata": {},
     "output_type": "execute_result"
    }
   ],
   "source": [
    "#Check for duplicate\n",
    "df.duplicated().any()"
   ]
  },
  {
   "cell_type": "markdown",
   "id": "6518edd9-a62e-40df-b3dd-111b940f3e85",
   "metadata": {},
   "source": [
    "### Our dataset contains no duplicates as well"
   ]
  },
  {
   "cell_type": "code",
   "execution_count": 109,
   "id": "46c4f0fa-6aa9-4c39-9ed0-8ded3f1acdd0",
   "metadata": {},
   "outputs": [
    {
     "ename": "KeyError",
     "evalue": "\"['Value'] not found in axis\"",
     "output_type": "error",
     "traceback": [
      "\u001b[1;31m---------------------------------------------------------------------------\u001b[0m",
      "\u001b[1;31mKeyError\u001b[0m                                  Traceback (most recent call last)",
      "Cell \u001b[1;32mIn[109], line 2\u001b[0m\n\u001b[0;32m      1\u001b[0m \u001b[38;5;66;03m#Dropping the column named Value\u001b[39;00m\n\u001b[1;32m----> 2\u001b[0m df\u001b[38;5;241m=\u001b[39mdf\u001b[38;5;241m.\u001b[39mdrop(\u001b[38;5;124m\"\u001b[39m\u001b[38;5;124mValue\u001b[39m\u001b[38;5;124m\"\u001b[39m, axis\u001b[38;5;241m=\u001b[39m\u001b[38;5;241m1\u001b[39m)\n\u001b[0;32m      3\u001b[0m df\n",
      "File \u001b[1;32mE:\\Anaconda\\Lib\\site-packages\\pandas\\core\\frame.py:5581\u001b[0m, in \u001b[0;36mDataFrame.drop\u001b[1;34m(self, labels, axis, index, columns, level, inplace, errors)\u001b[0m\n\u001b[0;32m   5433\u001b[0m \u001b[38;5;28;01mdef\u001b[39;00m \u001b[38;5;21mdrop\u001b[39m(\n\u001b[0;32m   5434\u001b[0m     \u001b[38;5;28mself\u001b[39m,\n\u001b[0;32m   5435\u001b[0m     labels: IndexLabel \u001b[38;5;241m|\u001b[39m \u001b[38;5;28;01mNone\u001b[39;00m \u001b[38;5;241m=\u001b[39m \u001b[38;5;28;01mNone\u001b[39;00m,\n\u001b[1;32m   (...)\u001b[0m\n\u001b[0;32m   5442\u001b[0m     errors: IgnoreRaise \u001b[38;5;241m=\u001b[39m \u001b[38;5;124m\"\u001b[39m\u001b[38;5;124mraise\u001b[39m\u001b[38;5;124m\"\u001b[39m,\n\u001b[0;32m   5443\u001b[0m ) \u001b[38;5;241m-\u001b[39m\u001b[38;5;241m>\u001b[39m DataFrame \u001b[38;5;241m|\u001b[39m \u001b[38;5;28;01mNone\u001b[39;00m:\n\u001b[0;32m   5444\u001b[0m \u001b[38;5;250m    \u001b[39m\u001b[38;5;124;03m\"\"\"\u001b[39;00m\n\u001b[0;32m   5445\u001b[0m \u001b[38;5;124;03m    Drop specified labels from rows or columns.\u001b[39;00m\n\u001b[0;32m   5446\u001b[0m \n\u001b[1;32m   (...)\u001b[0m\n\u001b[0;32m   5579\u001b[0m \u001b[38;5;124;03m            weight  1.0     0.8\u001b[39;00m\n\u001b[0;32m   5580\u001b[0m \u001b[38;5;124;03m    \"\"\"\u001b[39;00m\n\u001b[1;32m-> 5581\u001b[0m     \u001b[38;5;28;01mreturn\u001b[39;00m \u001b[38;5;28msuper\u001b[39m()\u001b[38;5;241m.\u001b[39mdrop(\n\u001b[0;32m   5582\u001b[0m         labels\u001b[38;5;241m=\u001b[39mlabels,\n\u001b[0;32m   5583\u001b[0m         axis\u001b[38;5;241m=\u001b[39maxis,\n\u001b[0;32m   5584\u001b[0m         index\u001b[38;5;241m=\u001b[39mindex,\n\u001b[0;32m   5585\u001b[0m         columns\u001b[38;5;241m=\u001b[39mcolumns,\n\u001b[0;32m   5586\u001b[0m         level\u001b[38;5;241m=\u001b[39mlevel,\n\u001b[0;32m   5587\u001b[0m         inplace\u001b[38;5;241m=\u001b[39minplace,\n\u001b[0;32m   5588\u001b[0m         errors\u001b[38;5;241m=\u001b[39merrors,\n\u001b[0;32m   5589\u001b[0m     )\n",
      "File \u001b[1;32mE:\\Anaconda\\Lib\\site-packages\\pandas\\core\\generic.py:4788\u001b[0m, in \u001b[0;36mNDFrame.drop\u001b[1;34m(self, labels, axis, index, columns, level, inplace, errors)\u001b[0m\n\u001b[0;32m   4786\u001b[0m \u001b[38;5;28;01mfor\u001b[39;00m axis, labels \u001b[38;5;129;01min\u001b[39;00m axes\u001b[38;5;241m.\u001b[39mitems():\n\u001b[0;32m   4787\u001b[0m     \u001b[38;5;28;01mif\u001b[39;00m labels \u001b[38;5;129;01mis\u001b[39;00m \u001b[38;5;129;01mnot\u001b[39;00m \u001b[38;5;28;01mNone\u001b[39;00m:\n\u001b[1;32m-> 4788\u001b[0m         obj \u001b[38;5;241m=\u001b[39m obj\u001b[38;5;241m.\u001b[39m_drop_axis(labels, axis, level\u001b[38;5;241m=\u001b[39mlevel, errors\u001b[38;5;241m=\u001b[39merrors)\n\u001b[0;32m   4790\u001b[0m \u001b[38;5;28;01mif\u001b[39;00m inplace:\n\u001b[0;32m   4791\u001b[0m     \u001b[38;5;28mself\u001b[39m\u001b[38;5;241m.\u001b[39m_update_inplace(obj)\n",
      "File \u001b[1;32mE:\\Anaconda\\Lib\\site-packages\\pandas\\core\\generic.py:4830\u001b[0m, in \u001b[0;36mNDFrame._drop_axis\u001b[1;34m(self, labels, axis, level, errors, only_slice)\u001b[0m\n\u001b[0;32m   4828\u001b[0m         new_axis \u001b[38;5;241m=\u001b[39m axis\u001b[38;5;241m.\u001b[39mdrop(labels, level\u001b[38;5;241m=\u001b[39mlevel, errors\u001b[38;5;241m=\u001b[39merrors)\n\u001b[0;32m   4829\u001b[0m     \u001b[38;5;28;01melse\u001b[39;00m:\n\u001b[1;32m-> 4830\u001b[0m         new_axis \u001b[38;5;241m=\u001b[39m axis\u001b[38;5;241m.\u001b[39mdrop(labels, errors\u001b[38;5;241m=\u001b[39merrors)\n\u001b[0;32m   4831\u001b[0m     indexer \u001b[38;5;241m=\u001b[39m axis\u001b[38;5;241m.\u001b[39mget_indexer(new_axis)\n\u001b[0;32m   4833\u001b[0m \u001b[38;5;66;03m# Case for non-unique axis\u001b[39;00m\n\u001b[0;32m   4834\u001b[0m \u001b[38;5;28;01melse\u001b[39;00m:\n",
      "File \u001b[1;32mE:\\Anaconda\\Lib\\site-packages\\pandas\\core\\indexes\\base.py:7070\u001b[0m, in \u001b[0;36mIndex.drop\u001b[1;34m(self, labels, errors)\u001b[0m\n\u001b[0;32m   7068\u001b[0m \u001b[38;5;28;01mif\u001b[39;00m mask\u001b[38;5;241m.\u001b[39many():\n\u001b[0;32m   7069\u001b[0m     \u001b[38;5;28;01mif\u001b[39;00m errors \u001b[38;5;241m!=\u001b[39m \u001b[38;5;124m\"\u001b[39m\u001b[38;5;124mignore\u001b[39m\u001b[38;5;124m\"\u001b[39m:\n\u001b[1;32m-> 7070\u001b[0m         \u001b[38;5;28;01mraise\u001b[39;00m \u001b[38;5;167;01mKeyError\u001b[39;00m(\u001b[38;5;124mf\u001b[39m\u001b[38;5;124m\"\u001b[39m\u001b[38;5;132;01m{\u001b[39;00mlabels[mask]\u001b[38;5;241m.\u001b[39mtolist()\u001b[38;5;132;01m}\u001b[39;00m\u001b[38;5;124m not found in axis\u001b[39m\u001b[38;5;124m\"\u001b[39m)\n\u001b[0;32m   7071\u001b[0m     indexer \u001b[38;5;241m=\u001b[39m indexer[\u001b[38;5;241m~\u001b[39mmask]\n\u001b[0;32m   7072\u001b[0m \u001b[38;5;28;01mreturn\u001b[39;00m \u001b[38;5;28mself\u001b[39m\u001b[38;5;241m.\u001b[39mdelete(indexer)\n",
      "\u001b[1;31mKeyError\u001b[0m: \"['Value'] not found in axis\""
     ]
    }
   ],
   "source": [
    "#Dropping the column named Value\n",
    "df=df.drop(\"Value\", axis=1)"
   ]
  },
  {
   "cell_type": "code",
   "execution_count": 9,
   "id": "c97293bc-88bd-4ab4-b849-4a44d19cf491",
   "metadata": {},
   "outputs": [],
   "source": [
    "#Drop the Survey Year column\n",
    "df=df.drop(\"Survey Year\" ,axis=1)"
   ]
  },
  {
   "cell_type": "code",
   "execution_count": 10,
   "id": "6181e884-732b-4a7c-9c64-92472d0ab516",
   "metadata": {},
   "outputs": [
    {
     "data": {
      "text/html": [
       "<div>\n",
       "<style scoped>\n",
       "    .dataframe tbody tr th:only-of-type {\n",
       "        vertical-align: middle;\n",
       "    }\n",
       "\n",
       "    .dataframe tbody tr th {\n",
       "        vertical-align: top;\n",
       "    }\n",
       "\n",
       "    .dataframe thead th {\n",
       "        text-align: right;\n",
       "    }\n",
       "</style>\n",
       "<table border=\"1\" class=\"dataframe\">\n",
       "  <thead>\n",
       "    <tr style=\"text-align: right;\">\n",
       "      <th></th>\n",
       "      <th>RecordID</th>\n",
       "      <th>Country</th>\n",
       "      <th>Gender</th>\n",
       "      <th>Demographics Question</th>\n",
       "      <th>Demographics Response</th>\n",
       "      <th>Question</th>\n",
       "    </tr>\n",
       "  </thead>\n",
       "  <tbody>\n",
       "    <tr>\n",
       "      <th>0</th>\n",
       "      <td>1</td>\n",
       "      <td>Afghanistan</td>\n",
       "      <td>F</td>\n",
       "      <td>Marital status</td>\n",
       "      <td>Never married</td>\n",
       "      <td>... if she burns the food</td>\n",
       "    </tr>\n",
       "    <tr>\n",
       "      <th>1</th>\n",
       "      <td>1</td>\n",
       "      <td>Afghanistan</td>\n",
       "      <td>F</td>\n",
       "      <td>Education</td>\n",
       "      <td>Higher</td>\n",
       "      <td>... if she burns the food</td>\n",
       "    </tr>\n",
       "    <tr>\n",
       "      <th>2</th>\n",
       "      <td>1</td>\n",
       "      <td>Afghanistan</td>\n",
       "      <td>F</td>\n",
       "      <td>Education</td>\n",
       "      <td>Secondary</td>\n",
       "      <td>... if she burns the food</td>\n",
       "    </tr>\n",
       "    <tr>\n",
       "      <th>3</th>\n",
       "      <td>1</td>\n",
       "      <td>Afghanistan</td>\n",
       "      <td>F</td>\n",
       "      <td>Education</td>\n",
       "      <td>Primary</td>\n",
       "      <td>... if she burns the food</td>\n",
       "    </tr>\n",
       "    <tr>\n",
       "      <th>4</th>\n",
       "      <td>1</td>\n",
       "      <td>Afghanistan</td>\n",
       "      <td>F</td>\n",
       "      <td>Marital status</td>\n",
       "      <td>Widowed, divorced, separated</td>\n",
       "      <td>... if she burns the food</td>\n",
       "    </tr>\n",
       "    <tr>\n",
       "      <th>...</th>\n",
       "      <td>...</td>\n",
       "      <td>...</td>\n",
       "      <td>...</td>\n",
       "      <td>...</td>\n",
       "      <td>...</td>\n",
       "      <td>...</td>\n",
       "    </tr>\n",
       "    <tr>\n",
       "      <th>12595</th>\n",
       "      <td>210</td>\n",
       "      <td>Zimbabwe</td>\n",
       "      <td>M</td>\n",
       "      <td>Residence</td>\n",
       "      <td>Urban</td>\n",
       "      <td>... if she goes out without telling him</td>\n",
       "    </tr>\n",
       "    <tr>\n",
       "      <th>12596</th>\n",
       "      <td>280</td>\n",
       "      <td>Zimbabwe</td>\n",
       "      <td>M</td>\n",
       "      <td>Residence</td>\n",
       "      <td>Rural</td>\n",
       "      <td>... if she neglects the children</td>\n",
       "    </tr>\n",
       "    <tr>\n",
       "      <th>12597</th>\n",
       "      <td>280</td>\n",
       "      <td>Zimbabwe</td>\n",
       "      <td>M</td>\n",
       "      <td>Residence</td>\n",
       "      <td>Urban</td>\n",
       "      <td>... if she neglects the children</td>\n",
       "    </tr>\n",
       "    <tr>\n",
       "      <th>12598</th>\n",
       "      <td>350</td>\n",
       "      <td>Zimbabwe</td>\n",
       "      <td>M</td>\n",
       "      <td>Residence</td>\n",
       "      <td>Rural</td>\n",
       "      <td>... if she refuses to have sex with him</td>\n",
       "    </tr>\n",
       "    <tr>\n",
       "      <th>12599</th>\n",
       "      <td>350</td>\n",
       "      <td>Zimbabwe</td>\n",
       "      <td>M</td>\n",
       "      <td>Residence</td>\n",
       "      <td>Urban</td>\n",
       "      <td>... if she refuses to have sex with him</td>\n",
       "    </tr>\n",
       "  </tbody>\n",
       "</table>\n",
       "<p>12600 rows × 6 columns</p>\n",
       "</div>"
      ],
      "text/plain": [
       "       RecordID      Country Gender Demographics Question  \\\n",
       "0             1  Afghanistan      F        Marital status   \n",
       "1             1  Afghanistan      F             Education   \n",
       "2             1  Afghanistan      F             Education   \n",
       "3             1  Afghanistan      F             Education   \n",
       "4             1  Afghanistan      F        Marital status   \n",
       "...         ...          ...    ...                   ...   \n",
       "12595       210     Zimbabwe      M             Residence   \n",
       "12596       280     Zimbabwe      M             Residence   \n",
       "12597       280     Zimbabwe      M             Residence   \n",
       "12598       350     Zimbabwe      M             Residence   \n",
       "12599       350     Zimbabwe      M             Residence   \n",
       "\n",
       "              Demographics Response                                 Question  \n",
       "0                     Never married                ... if she burns the food  \n",
       "1                            Higher                ... if she burns the food  \n",
       "2                         Secondary                ... if she burns the food  \n",
       "3                           Primary                ... if she burns the food  \n",
       "4      Widowed, divorced, separated                ... if she burns the food  \n",
       "...                             ...                                      ...  \n",
       "12595                         Urban  ... if she goes out without telling him  \n",
       "12596                         Rural         ... if she neglects the children  \n",
       "12597                         Urban         ... if she neglects the children  \n",
       "12598                         Rural  ... if she refuses to have sex with him  \n",
       "12599                         Urban  ... if she refuses to have sex with him  \n",
       "\n",
       "[12600 rows x 6 columns]"
      ]
     },
     "execution_count": 10,
     "metadata": {},
     "output_type": "execute_result"
    }
   ],
   "source": [
    "df"
   ]
  },
  {
   "cell_type": "markdown",
   "id": "58d9b529-1d66-4edb-9caa-8fda694c2921",
   "metadata": {},
   "source": [
    "## Data Manipulation"
   ]
  },
  {
   "cell_type": "code",
   "execution_count": 126,
   "id": "a6b01b4c-a0f3-4929-9778-a42c9202a16c",
   "metadata": {},
   "outputs": [
    {
     "data": {
      "text/plain": [
       "Gender\n",
       "F    6300\n",
       "M    6300\n",
       "Name: count, dtype: int64"
      ]
     },
     "execution_count": 126,
     "metadata": {},
     "output_type": "execute_result"
    }
   ],
   "source": [
    "#Check the counts of females and males\n",
    "df[\"Gender\"].value_counts()"
   ]
  },
  {
   "cell_type": "code",
   "execution_count": 128,
   "id": "4c2b3f51-c893-49e7-b708-33374efc53de",
   "metadata": {},
   "outputs": [
    {
     "data": {
      "text/plain": [
       "Country\n",
       "Afghanistan    180\n",
       "Mozambique     180\n",
       "Nigeria        180\n",
       "Niger          180\n",
       "Nicaragua      180\n",
       "              ... \n",
       "Haiti          180\n",
       "Honduras       180\n",
       "India          180\n",
       "Indonesia      180\n",
       "Zimbabwe       180\n",
       "Name: count, Length: 70, dtype: int64"
      ]
     },
     "execution_count": 128,
     "metadata": {},
     "output_type": "execute_result"
    }
   ],
   "source": [
    "#Number of records per country\n",
    "df[\"Country\"].value_counts()"
   ]
  },
  {
   "cell_type": "code",
   "execution_count": 143,
   "id": "1b639b24-6ffb-48a7-b50d-58f2b2097570",
   "metadata": {},
   "outputs": [
    {
     "data": {
      "text/plain": [
       "70"
      ]
     },
     "execution_count": 143,
     "metadata": {},
     "output_type": "execute_result"
    }
   ],
   "source": [
    "#Total number of countries in the dataset\n",
    "df[\"Country\"].nunique()"
   ]
  },
  {
   "cell_type": "code",
   "execution_count": 145,
   "id": "85f294ce-63bc-4bbc-b7f4-941951fccea0",
   "metadata": {},
   "outputs": [],
   "source": [
    "#Filtered Kenya data\n",
    "Kenya = df[df[\"Country\"] == \"Kenya\"]"
   ]
  },
  {
   "cell_type": "code",
   "execution_count": 147,
   "id": "22863186-d72b-4d80-828d-ef0598279a40",
   "metadata": {},
   "outputs": [
    {
     "data": {
      "text/plain": [
       "Gender\n",
       "F    90\n",
       "M    90\n",
       "Name: count, dtype: int64"
      ]
     },
     "execution_count": 147,
     "metadata": {},
     "output_type": "execute_result"
    }
   ],
   "source": [
    "#Inspect the data\n",
    "Kenya[\"Gender\"].value_counts()"
   ]
  },
  {
   "cell_type": "code",
   "execution_count": 66,
   "id": "3906d1ce-4024-4ff1-9271-94829f7c1c93",
   "metadata": {},
   "outputs": [
    {
     "data": {
      "text/html": [
       "<div>\n",
       "<style scoped>\n",
       "    .dataframe tbody tr th:only-of-type {\n",
       "        vertical-align: middle;\n",
       "    }\n",
       "\n",
       "    .dataframe tbody tr th {\n",
       "        vertical-align: top;\n",
       "    }\n",
       "\n",
       "    .dataframe thead th {\n",
       "        text-align: right;\n",
       "    }\n",
       "</style>\n",
       "<table border=\"1\" class=\"dataframe\">\n",
       "  <thead>\n",
       "    <tr style=\"text-align: right;\">\n",
       "      <th></th>\n",
       "      <th>RecordID</th>\n",
       "      <th>Country</th>\n",
       "      <th>Gender</th>\n",
       "      <th>Demographics Question</th>\n",
       "      <th>Demographics Response</th>\n",
       "      <th>Question</th>\n",
       "    </tr>\n",
       "  </thead>\n",
       "  <tbody>\n",
       "    <tr>\n",
       "      <th>6120</th>\n",
       "      <td>385</td>\n",
       "      <td>Kenya</td>\n",
       "      <td>F</td>\n",
       "      <td>Age</td>\n",
       "      <td>15-24</td>\n",
       "      <td>... for at least one specific reason</td>\n",
       "    </tr>\n",
       "    <tr>\n",
       "      <th>6121</th>\n",
       "      <td>385</td>\n",
       "      <td>Kenya</td>\n",
       "      <td>F</td>\n",
       "      <td>Age</td>\n",
       "      <td>25-34</td>\n",
       "      <td>... for at least one specific reason</td>\n",
       "    </tr>\n",
       "    <tr>\n",
       "      <th>6122</th>\n",
       "      <td>385</td>\n",
       "      <td>Kenya</td>\n",
       "      <td>F</td>\n",
       "      <td>Age</td>\n",
       "      <td>35-49</td>\n",
       "      <td>... for at least one specific reason</td>\n",
       "    </tr>\n",
       "    <tr>\n",
       "      <th>6123</th>\n",
       "      <td>105</td>\n",
       "      <td>Kenya</td>\n",
       "      <td>F</td>\n",
       "      <td>Age</td>\n",
       "      <td>15-24</td>\n",
       "      <td>... if she argues with him</td>\n",
       "    </tr>\n",
       "    <tr>\n",
       "      <th>6124</th>\n",
       "      <td>105</td>\n",
       "      <td>Kenya</td>\n",
       "      <td>F</td>\n",
       "      <td>Age</td>\n",
       "      <td>25-34</td>\n",
       "      <td>... if she argues with him</td>\n",
       "    </tr>\n",
       "    <tr>\n",
       "      <th>...</th>\n",
       "      <td>...</td>\n",
       "      <td>...</td>\n",
       "      <td>...</td>\n",
       "      <td>...</td>\n",
       "      <td>...</td>\n",
       "      <td>...</td>\n",
       "    </tr>\n",
       "    <tr>\n",
       "      <th>6205</th>\n",
       "      <td>175</td>\n",
       "      <td>Kenya</td>\n",
       "      <td>F</td>\n",
       "      <td>Residence</td>\n",
       "      <td>Urban</td>\n",
       "      <td>... if she goes out without telling him</td>\n",
       "    </tr>\n",
       "    <tr>\n",
       "      <th>6206</th>\n",
       "      <td>245</td>\n",
       "      <td>Kenya</td>\n",
       "      <td>F</td>\n",
       "      <td>Residence</td>\n",
       "      <td>Rural</td>\n",
       "      <td>... if she neglects the children</td>\n",
       "    </tr>\n",
       "    <tr>\n",
       "      <th>6207</th>\n",
       "      <td>245</td>\n",
       "      <td>Kenya</td>\n",
       "      <td>F</td>\n",
       "      <td>Residence</td>\n",
       "      <td>Urban</td>\n",
       "      <td>... if she neglects the children</td>\n",
       "    </tr>\n",
       "    <tr>\n",
       "      <th>6208</th>\n",
       "      <td>315</td>\n",
       "      <td>Kenya</td>\n",
       "      <td>F</td>\n",
       "      <td>Residence</td>\n",
       "      <td>Rural</td>\n",
       "      <td>... if she refuses to have sex with him</td>\n",
       "    </tr>\n",
       "    <tr>\n",
       "      <th>6209</th>\n",
       "      <td>315</td>\n",
       "      <td>Kenya</td>\n",
       "      <td>F</td>\n",
       "      <td>Residence</td>\n",
       "      <td>Urban</td>\n",
       "      <td>... if she refuses to have sex with him</td>\n",
       "    </tr>\n",
       "  </tbody>\n",
       "</table>\n",
       "<p>90 rows × 6 columns</p>\n",
       "</div>"
      ],
      "text/plain": [
       "      RecordID Country Gender Demographics Question Demographics Response  \\\n",
       "6120       385   Kenya      F                   Age                 15-24   \n",
       "6121       385   Kenya      F                   Age                 25-34   \n",
       "6122       385   Kenya      F                   Age                 35-49   \n",
       "6123       105   Kenya      F                   Age                 15-24   \n",
       "6124       105   Kenya      F                   Age                 25-34   \n",
       "...        ...     ...    ...                   ...                   ...   \n",
       "6205       175   Kenya      F             Residence                 Urban   \n",
       "6206       245   Kenya      F             Residence                 Rural   \n",
       "6207       245   Kenya      F             Residence                 Urban   \n",
       "6208       315   Kenya      F             Residence                 Rural   \n",
       "6209       315   Kenya      F             Residence                 Urban   \n",
       "\n",
       "                                     Question  \n",
       "6120     ... for at least one specific reason  \n",
       "6121     ... for at least one specific reason  \n",
       "6122     ... for at least one specific reason  \n",
       "6123               ... if she argues with him  \n",
       "6124               ... if she argues with him  \n",
       "...                                       ...  \n",
       "6205  ... if she goes out without telling him  \n",
       "6206         ... if she neglects the children  \n",
       "6207         ... if she neglects the children  \n",
       "6208  ... if she refuses to have sex with him  \n",
       "6209  ... if she refuses to have sex with him  \n",
       "\n",
       "[90 rows x 6 columns]"
      ]
     },
     "execution_count": 66,
     "metadata": {},
     "output_type": "execute_result"
    }
   ],
   "source": [
    "#Filter based on Gender where Gender is Female\n",
    "KenyaFemales= Kenya[Kenya[\"Gender\"] ==\"F\"]\n",
    "KenyaFemales"
   ]
  },
  {
   "cell_type": "code",
   "execution_count": 70,
   "id": "0ee89f7b-1a5a-4863-89f4-f0a77df52305",
   "metadata": {},
   "outputs": [
    {
     "data": {
      "text/plain": [
       "Demographics Question\n",
       "Education         24\n",
       "Age               18\n",
       "Employment        18\n",
       "Marital status    18\n",
       "Residence         12\n",
       "Name: count, dtype: int64"
      ]
     },
     "execution_count": 70,
     "metadata": {},
     "output_type": "execute_result"
    }
   ],
   "source": [
    "KenyaFemales[\"Demographics Question\"].value_counts()"
   ]
  },
  {
   "cell_type": "markdown",
   "id": "e44b29ef-cece-489d-b6c2-eeec2efab54c",
   "metadata": {},
   "source": [
    "#### \n",
    "The dataset KenyaFemales includes a column titled \"Demographics Question,\" which contains various categories. Here's a summary of the counts for each category:\n",
    "\n",
    "Education: Appears 24 times.\n",
    "Age: Appears 18 times.\n",
    "Employment: Appears 18 times.\n",
    "Marital status: Appears 18 times.\n",
    "Residence: Appears 12 times.\n",
    "This distribution indicates that \"Education\" is the most frequently mentioned demographic question in the dataset, followed by \"Age,\" \"Employment,\" and \"Marital status,\" each with an equal count, and \"Residence\" being the least mentioned."
   ]
  },
  {
   "cell_type": "code",
   "execution_count": 73,
   "id": "380aa6d8-e04a-446f-a8da-9abdf0f52b66",
   "metadata": {},
   "outputs": [
    {
     "data": {
      "text/plain": [
       "Question\n",
       "... for at least one specific reason       15\n",
       "... if she argues with him                 15\n",
       "... if she burns the food                  15\n",
       "... if she goes out without telling him    15\n",
       "... if she neglects the children           15\n",
       "... if she refuses to have sex with him    15\n",
       "Name: count, dtype: int64"
      ]
     },
     "execution_count": 73,
     "metadata": {},
     "output_type": "execute_result"
    }
   ],
   "source": [
    "KenyaFemales[\"Question\"].value_counts()"
   ]
  },
  {
   "cell_type": "code",
   "execution_count": 151,
   "id": "9d7a78ed-a19d-4b0e-b0c9-d44b63f52a53",
   "metadata": {},
   "outputs": [],
   "source": [
    "#Filter based on Gender where Gender is Female\n",
    "KenyaMales = Kenya[Kenya[\"Gender\"]==\"M\"]"
   ]
  },
  {
   "cell_type": "code",
   "execution_count": 157,
   "id": "baa8ab2c-bc8d-4b7f-85d5-4048afac9f6c",
   "metadata": {},
   "outputs": [
    {
     "data": {
      "text/html": [
       "<div>\n",
       "<style scoped>\n",
       "    .dataframe tbody tr th:only-of-type {\n",
       "        vertical-align: middle;\n",
       "    }\n",
       "\n",
       "    .dataframe tbody tr th {\n",
       "        vertical-align: top;\n",
       "    }\n",
       "\n",
       "    .dataframe thead th {\n",
       "        text-align: right;\n",
       "    }\n",
       "</style>\n",
       "<table border=\"1\" class=\"dataframe\">\n",
       "  <thead>\n",
       "    <tr style=\"text-align: right;\">\n",
       "      <th></th>\n",
       "      <th>RecordID</th>\n",
       "      <th>Country</th>\n",
       "      <th>Gender</th>\n",
       "      <th>Demographics Question</th>\n",
       "      <th>Demographics Response</th>\n",
       "      <th>Question</th>\n",
       "    </tr>\n",
       "  </thead>\n",
       "  <tbody>\n",
       "    <tr>\n",
       "      <th>6210</th>\n",
       "      <td>385</td>\n",
       "      <td>Kenya</td>\n",
       "      <td>M</td>\n",
       "      <td>Age</td>\n",
       "      <td>15-24</td>\n",
       "      <td>... for at least one specific reason</td>\n",
       "    </tr>\n",
       "    <tr>\n",
       "      <th>6211</th>\n",
       "      <td>385</td>\n",
       "      <td>Kenya</td>\n",
       "      <td>M</td>\n",
       "      <td>Age</td>\n",
       "      <td>25-34</td>\n",
       "      <td>... for at least one specific reason</td>\n",
       "    </tr>\n",
       "    <tr>\n",
       "      <th>6212</th>\n",
       "      <td>385</td>\n",
       "      <td>Kenya</td>\n",
       "      <td>M</td>\n",
       "      <td>Age</td>\n",
       "      <td>35-49</td>\n",
       "      <td>... for at least one specific reason</td>\n",
       "    </tr>\n",
       "    <tr>\n",
       "      <th>6213</th>\n",
       "      <td>105</td>\n",
       "      <td>Kenya</td>\n",
       "      <td>M</td>\n",
       "      <td>Age</td>\n",
       "      <td>15-24</td>\n",
       "      <td>... if she argues with him</td>\n",
       "    </tr>\n",
       "    <tr>\n",
       "      <th>6214</th>\n",
       "      <td>105</td>\n",
       "      <td>Kenya</td>\n",
       "      <td>M</td>\n",
       "      <td>Age</td>\n",
       "      <td>25-34</td>\n",
       "      <td>... if she argues with him</td>\n",
       "    </tr>\n",
       "    <tr>\n",
       "      <th>...</th>\n",
       "      <td>...</td>\n",
       "      <td>...</td>\n",
       "      <td>...</td>\n",
       "      <td>...</td>\n",
       "      <td>...</td>\n",
       "      <td>...</td>\n",
       "    </tr>\n",
       "    <tr>\n",
       "      <th>6295</th>\n",
       "      <td>175</td>\n",
       "      <td>Kenya</td>\n",
       "      <td>M</td>\n",
       "      <td>Residence</td>\n",
       "      <td>Urban</td>\n",
       "      <td>... if she goes out without telling him</td>\n",
       "    </tr>\n",
       "    <tr>\n",
       "      <th>6296</th>\n",
       "      <td>245</td>\n",
       "      <td>Kenya</td>\n",
       "      <td>M</td>\n",
       "      <td>Residence</td>\n",
       "      <td>Rural</td>\n",
       "      <td>... if she neglects the children</td>\n",
       "    </tr>\n",
       "    <tr>\n",
       "      <th>6297</th>\n",
       "      <td>245</td>\n",
       "      <td>Kenya</td>\n",
       "      <td>M</td>\n",
       "      <td>Residence</td>\n",
       "      <td>Urban</td>\n",
       "      <td>... if she neglects the children</td>\n",
       "    </tr>\n",
       "    <tr>\n",
       "      <th>6298</th>\n",
       "      <td>315</td>\n",
       "      <td>Kenya</td>\n",
       "      <td>M</td>\n",
       "      <td>Residence</td>\n",
       "      <td>Rural</td>\n",
       "      <td>... if she refuses to have sex with him</td>\n",
       "    </tr>\n",
       "    <tr>\n",
       "      <th>6299</th>\n",
       "      <td>315</td>\n",
       "      <td>Kenya</td>\n",
       "      <td>M</td>\n",
       "      <td>Residence</td>\n",
       "      <td>Urban</td>\n",
       "      <td>... if she refuses to have sex with him</td>\n",
       "    </tr>\n",
       "  </tbody>\n",
       "</table>\n",
       "<p>90 rows × 6 columns</p>\n",
       "</div>"
      ],
      "text/plain": [
       "      RecordID Country Gender Demographics Question Demographics Response  \\\n",
       "6210       385   Kenya      M                   Age                 15-24   \n",
       "6211       385   Kenya      M                   Age                 25-34   \n",
       "6212       385   Kenya      M                   Age                 35-49   \n",
       "6213       105   Kenya      M                   Age                 15-24   \n",
       "6214       105   Kenya      M                   Age                 25-34   \n",
       "...        ...     ...    ...                   ...                   ...   \n",
       "6295       175   Kenya      M             Residence                 Urban   \n",
       "6296       245   Kenya      M             Residence                 Rural   \n",
       "6297       245   Kenya      M             Residence                 Urban   \n",
       "6298       315   Kenya      M             Residence                 Rural   \n",
       "6299       315   Kenya      M             Residence                 Urban   \n",
       "\n",
       "                                     Question  \n",
       "6210     ... for at least one specific reason  \n",
       "6211     ... for at least one specific reason  \n",
       "6212     ... for at least one specific reason  \n",
       "6213               ... if she argues with him  \n",
       "6214               ... if she argues with him  \n",
       "...                                       ...  \n",
       "6295  ... if she goes out without telling him  \n",
       "6296         ... if she neglects the children  \n",
       "6297         ... if she neglects the children  \n",
       "6298  ... if she refuses to have sex with him  \n",
       "6299  ... if she refuses to have sex with him  \n",
       "\n",
       "[90 rows x 6 columns]"
      ]
     },
     "execution_count": 157,
     "metadata": {},
     "output_type": "execute_result"
    }
   ],
   "source": [
    "KenyaMales"
   ]
  },
  {
   "cell_type": "code",
   "execution_count": 153,
   "id": "ee79b99a-22fa-4e32-bb75-54ac737b862b",
   "metadata": {},
   "outputs": [
    {
     "data": {
      "text/plain": [
       "Demographics Question\n",
       "Education         24\n",
       "Age               18\n",
       "Employment        18\n",
       "Marital status    18\n",
       "Residence         12\n",
       "Name: count, dtype: int64"
      ]
     },
     "execution_count": 153,
     "metadata": {},
     "output_type": "execute_result"
    }
   ],
   "source": [
    "KenyaMales[\"Demographics Question\"].value_counts()"
   ]
  },
  {
   "cell_type": "code",
   "execution_count": 155,
   "id": "ea4c84d6-3f31-4635-b411-db57645b5495",
   "metadata": {},
   "outputs": [
    {
     "data": {
      "text/plain": [
       "Question\n",
       "... for at least one specific reason       15\n",
       "... if she argues with him                 15\n",
       "... if she burns the food                  15\n",
       "... if she goes out without telling him    15\n",
       "... if she neglects the children           15\n",
       "... if she refuses to have sex with him    15\n",
       "Name: count, dtype: int64"
      ]
     },
     "execution_count": 155,
     "metadata": {},
     "output_type": "execute_result"
    }
   ],
   "source": [
    "KenyaMales[\"Question\"].value_counts()"
   ]
  },
  {
   "cell_type": "markdown",
   "id": "5ecb3c3f-b028-464c-8c71-6bf3594f0589",
   "metadata": {},
   "source": [
    "### Summary\n",
    "The dataset seems to have similiar entries based on the value counts,It might be difficult to make comperative analysis "
   ]
  },
  {
   "cell_type": "code",
   "execution_count": null,
   "id": "cefca730-f955-4735-a84c-381dab3c00c3",
   "metadata": {},
   "outputs": [],
   "source": []
  },
  {
   "cell_type": "code",
   "execution_count": null,
   "id": "692888af-dec1-47da-88cd-5b8842ca5249",
   "metadata": {},
   "outputs": [],
   "source": []
  }
 ],
 "metadata": {
  "kernelspec": {
   "display_name": "Python 3 (ipykernel)",
   "language": "python",
   "name": "python3"
  },
  "language_info": {
   "codemirror_mode": {
    "name": "ipython",
    "version": 3
   },
   "file_extension": ".py",
   "mimetype": "text/x-python",
   "name": "python",
   "nbconvert_exporter": "python",
   "pygments_lexer": "ipython3",
   "version": "3.12.4"
  }
 },
 "nbformat": 4,
 "nbformat_minor": 5
}
